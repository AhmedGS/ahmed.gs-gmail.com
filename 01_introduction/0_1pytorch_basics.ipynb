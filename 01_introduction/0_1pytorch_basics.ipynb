{
  "nbformat": 4,
  "nbformat_minor": 0,
  "metadata": {
    "kernelspec": {
      "display_name": "conda_pytorch_p36",
      "language": "python",
      "name": "conda_pytorch_p36"
    },
    "language_info": {
      "codemirror_mode": {
        "name": "ipython",
        "version": 3
      },
      "file_extension": ".py",
      "mimetype": "text/x-python",
      "name": "python",
      "nbconvert_exporter": "python",
      "pygments_lexer": "ipython3",
      "version": "3.6.5"
    },
    "colab": {
      "name": "0.1 Tutorial basics.ipynb",
      "provenance": [],
      "toc_visible": true,
      "include_colab_link": true
    }
  },
  "cells": [
    {
      "cell_type": "markdown",
      "metadata": {
        "id": "view-in-github",
        "colab_type": "text"
      },
      "source": [
        "<a href=\"https://colab.research.google.com/github/AhmedGS/pytorch_tutorial/blob/master/01_introduction/0_1pytorch_basics.ipynb\" target=\"_parent\"><img src=\"https://colab.research.google.com/assets/colab-badge.svg\" alt=\"Open In Colab\"/></a>"
      ]
    },
    {
      "cell_type": "markdown",
      "metadata": {
        "id": "_l_wdOB8_iMW",
        "colab_type": "text"
      },
      "source": [
        "## Load libraries"
      ]
    },
    {
      "cell_type": "code",
      "metadata": {
        "id": "OCLzGsQ0_iMY",
        "colab_type": "code",
        "colab": {}
      },
      "source": [
        "import torch\n",
        "import numpy as np\n",
        "import pandas as pd"
      ],
      "execution_count": 0,
      "outputs": []
    },
    {
      "cell_type": "code",
      "metadata": {
        "id": "qfglxokS_iMi",
        "colab_type": "code",
        "colab": {}
      },
      "source": [
        "a = torch.tensor([7,5,4,8,5], dtype=torch.int32)"
      ],
      "execution_count": 0,
      "outputs": []
    },
    {
      "cell_type": "code",
      "metadata": {
        "id": "t9jMspJq_iMs",
        "colab_type": "code",
        "colab": {},
        "outputId": "250dd513-c68a-4114-c686-3fe79e159b7d"
      },
      "source": [
        "a.dtype"
      ],
      "execution_count": 0,
      "outputs": [
        {
          "output_type": "execute_result",
          "data": {
            "text/plain": [
              "torch.int64"
            ]
          },
          "metadata": {
            "tags": []
          },
          "execution_count": 3
        }
      ]
    },
    {
      "cell_type": "code",
      "metadata": {
        "id": "fDdyda6C_iM5",
        "colab_type": "code",
        "colab": {},
        "outputId": "d6281499-9566-43cd-b227-f7f30ef3b720"
      },
      "source": [
        "a.type()"
      ],
      "execution_count": 0,
      "outputs": [
        {
          "output_type": "execute_result",
          "data": {
            "text/plain": [
              "'torch.LongTensor'"
            ]
          },
          "metadata": {
            "tags": []
          },
          "execution_count": 4
        }
      ]
    },
    {
      "cell_type": "code",
      "metadata": {
        "id": "09cuBkiL_iNA",
        "colab_type": "code",
        "colab": {},
        "outputId": "3577554c-b5d0-45c1-86d1-134e6ae2e0e0"
      },
      "source": [
        "a = torch.tensor([7,5,4,8,5], dtype=torch.int32)\n",
        "print(a.dtype)"
      ],
      "execution_count": 0,
      "outputs": [
        {
          "output_type": "stream",
          "text": [
            "torch.int32\n"
          ],
          "name": "stdout"
        }
      ]
    },
    {
      "cell_type": "code",
      "metadata": {
        "id": "v3DqiFkS_iNF",
        "colab_type": "code",
        "colab": {}
      },
      "source": [
        "b = torch.FloatTensor([0.1, 0.3, 5.9])"
      ],
      "execution_count": 0,
      "outputs": []
    },
    {
      "cell_type": "code",
      "metadata": {
        "id": "TNK1W3OX_iNK",
        "colab_type": "code",
        "colab": {},
        "outputId": "66ac70ca-f6bd-4904-a69b-c38947763c44"
      },
      "source": [
        "b.type()"
      ],
      "execution_count": 0,
      "outputs": [
        {
          "output_type": "execute_result",
          "data": {
            "text/plain": [
              "'torch.FloatTensor'"
            ]
          },
          "metadata": {
            "tags": []
          },
          "execution_count": 15
        }
      ]
    },
    {
      "cell_type": "code",
      "metadata": {
        "id": "JMH-nYVG_iNV",
        "colab_type": "code",
        "colab": {},
        "outputId": "1fbe5ccc-4340-43c1-850e-2a53d280e7b1"
      },
      "source": [
        "c = b.type(torch.FloatTensor)\n",
        "c.dtype"
      ],
      "execution_count": 0,
      "outputs": [
        {
          "output_type": "execute_result",
          "data": {
            "text/plain": [
              "torch.float32"
            ]
          },
          "metadata": {
            "tags": []
          },
          "execution_count": 17
        }
      ]
    },
    {
      "cell_type": "code",
      "metadata": {
        "id": "R-jIiTel_iNa",
        "colab_type": "code",
        "colab": {},
        "outputId": "3cc1f49b-a364-41df-f6ae-5d9cd1bcf0a9"
      },
      "source": [
        "a.size()"
      ],
      "execution_count": 0,
      "outputs": [
        {
          "output_type": "execute_result",
          "data": {
            "text/plain": [
              "torch.Size([5])"
            ]
          },
          "metadata": {
            "tags": []
          },
          "execution_count": 18
        }
      ]
    },
    {
      "cell_type": "code",
      "metadata": {
        "id": "18NevhUM_iNf",
        "colab_type": "code",
        "colab": {},
        "outputId": "07933bff-5697-47ab-c7ec-b2b2c1b2e7b3"
      },
      "source": [
        "a.ndimension()"
      ],
      "execution_count": 0,
      "outputs": [
        {
          "output_type": "execute_result",
          "data": {
            "text/plain": [
              "1"
            ]
          },
          "metadata": {
            "tags": []
          },
          "execution_count": 19
        }
      ]
    },
    {
      "cell_type": "code",
      "metadata": {
        "id": "rySfixjD_iNm",
        "colab_type": "code",
        "colab": {},
        "outputId": "299dbccd-3d81-4a6d-c65f-c8a5e8e1b980"
      },
      "source": [
        "a_col = a.view(5, 1)\n",
        "a_col"
      ],
      "execution_count": 0,
      "outputs": [
        {
          "output_type": "execute_result",
          "data": {
            "text/plain": [
              "tensor([[7],\n",
              "        [5],\n",
              "        [4],\n",
              "        [8],\n",
              "        [5]], dtype=torch.int32)"
            ]
          },
          "metadata": {
            "tags": []
          },
          "execution_count": 20
        }
      ]
    },
    {
      "cell_type": "code",
      "metadata": {
        "id": "lNLgtvWk_iNx",
        "colab_type": "code",
        "colab": {},
        "outputId": "1e5df092-67bd-4711-b9f2-919bd30ad2e1"
      },
      "source": [
        "a_col = a.view(-1, 1)\n",
        "a_col"
      ],
      "execution_count": 0,
      "outputs": [
        {
          "output_type": "execute_result",
          "data": {
            "text/plain": [
              "tensor([[7],\n",
              "        [5],\n",
              "        [4],\n",
              "        [8],\n",
              "        [5]], dtype=torch.int32)"
            ]
          },
          "metadata": {
            "tags": []
          },
          "execution_count": 21
        }
      ]
    },
    {
      "cell_type": "code",
      "metadata": {
        "id": "S34YGo5R_iN5",
        "colab_type": "code",
        "colab": {},
        "outputId": "ad45612e-38e3-462c-acae-1751ed01c114"
      },
      "source": [
        "a_col.ndimension()"
      ],
      "execution_count": 0,
      "outputs": [
        {
          "output_type": "execute_result",
          "data": {
            "text/plain": [
              "2"
            ]
          },
          "metadata": {
            "tags": []
          },
          "execution_count": 23
        }
      ]
    },
    {
      "cell_type": "code",
      "metadata": {
        "id": "Cgb-6GW4_iN-",
        "colab_type": "code",
        "colab": {}
      },
      "source": [
        "np_array = np.array([0.1, 2.5, 3.9])\n",
        "torch_tensor = torch.from_numpy(np_array)\n",
        "bake_to_np = torch_tensor.numpy()"
      ],
      "execution_count": 0,
      "outputs": []
    },
    {
      "cell_type": "code",
      "metadata": {
        "id": "dFfPXtuU_iOB",
        "colab_type": "code",
        "colab": {},
        "outputId": "5133041e-ff3b-40e0-c8d5-51334f0da007"
      },
      "source": [
        "pandas_series = pd.Series([0.1, 2.5, 3.9])\n",
        "pandas_to_torch = torch.from_numpy(pandas_series.values)\n",
        "pandas_to_torch"
      ],
      "execution_count": 0,
      "outputs": [
        {
          "output_type": "execute_result",
          "data": {
            "text/plain": [
              "tensor([0.1000, 2.5000, 3.9000], dtype=torch.float64)"
            ]
          },
          "metadata": {
            "tags": []
          },
          "execution_count": 30
        }
      ]
    },
    {
      "cell_type": "code",
      "metadata": {
        "id": "qxD0_vN1_iOF",
        "colab_type": "code",
        "colab": {},
        "outputId": "e6aca713-4e9c-4af8-c8cc-e580714c7d14"
      },
      "source": [
        "my_tensor = torch.tensor([0,1,2,3])\n",
        "torch_to_list = my_tensor.tolist()\n",
        "torch_to_list"
      ],
      "execution_count": 0,
      "outputs": [
        {
          "output_type": "execute_result",
          "data": {
            "text/plain": [
              "[0, 1, 2, 3]"
            ]
          },
          "metadata": {
            "tags": []
          },
          "execution_count": 31
        }
      ]
    },
    {
      "cell_type": "code",
      "metadata": {
        "id": "K15geb8S_iOL",
        "colab_type": "code",
        "colab": {},
        "outputId": "7412a56b-f805-4261-dc62-f26d0855040d"
      },
      "source": [
        "c = torch.tensor([0,1,2,3])\n",
        "print(c)\n",
        "c[0] = 100\n",
        "print(c)\n",
        "print(c[:-2])"
      ],
      "execution_count": 0,
      "outputs": [
        {
          "output_type": "stream",
          "text": [
            "tensor([0, 1, 2, 3])\n",
            "tensor([100,   1,   2,   3])\n",
            "tensor([100,   1])\n"
          ],
          "name": "stdout"
        }
      ]
    },
    {
      "cell_type": "code",
      "metadata": {
        "id": "A7Q-qNc1_iOU",
        "colab_type": "code",
        "colab": {},
        "outputId": "4017bc9d-af5e-4102-eca0-7c780eae9964"
      },
      "source": [
        "u = torch.tensor([2,10])\n",
        "v = torch.tensor([5,33])\n",
        "z = u + v\n",
        "z"
      ],
      "execution_count": 0,
      "outputs": [
        {
          "output_type": "execute_result",
          "data": {
            "text/plain": [
              "tensor([ 7, 43])"
            ]
          },
          "metadata": {
            "tags": []
          },
          "execution_count": 35
        }
      ]
    },
    {
      "cell_type": "code",
      "metadata": {
        "id": "3skmgYhl_iOZ",
        "colab_type": "code",
        "colab": {},
        "outputId": "27498d17-9ec6-465f-f6d8-030849ba3caa"
      },
      "source": [
        "z = 2 * u\n",
        "z"
      ],
      "execution_count": 0,
      "outputs": [
        {
          "output_type": "execute_result",
          "data": {
            "text/plain": [
              "tensor([ 4, 20])"
            ]
          },
          "metadata": {
            "tags": []
          },
          "execution_count": 37
        }
      ]
    },
    {
      "cell_type": "code",
      "metadata": {
        "id": "6YsTlog7_iOd",
        "colab_type": "code",
        "colab": {},
        "outputId": "9b55a78f-bc0a-4368-e8cc-fb41276809f7"
      },
      "source": [
        "z = u * v\n",
        "z"
      ],
      "execution_count": 0,
      "outputs": [
        {
          "output_type": "execute_result",
          "data": {
            "text/plain": [
              "tensor([ 10, 330])"
            ]
          },
          "metadata": {
            "tags": []
          },
          "execution_count": 38
        }
      ]
    },
    {
      "cell_type": "code",
      "metadata": {
        "id": "Z0GLdnV7_iOi",
        "colab_type": "code",
        "colab": {},
        "outputId": "1b5b74a7-b83c-4410-90e6-51e2adec147f"
      },
      "source": [
        "#dot prodoct\n",
        "u = torch.tensor([2,10])\n",
        "v = torch.tensor([5,33])\n",
        "z = torch.dot(u, v)\n",
        "z"
      ],
      "execution_count": 0,
      "outputs": [
        {
          "output_type": "execute_result",
          "data": {
            "text/plain": [
              "tensor(340)"
            ]
          },
          "metadata": {
            "tags": []
          },
          "execution_count": 41
        }
      ]
    },
    {
      "cell_type": "code",
      "metadata": {
        "id": "Mrno28Qf_iOm",
        "colab_type": "code",
        "colab": {},
        "outputId": "b72f1910-5ca3-4326-92f7-f51e77ac84a7"
      },
      "source": [
        "u = u + 1\n",
        "u"
      ],
      "execution_count": 0,
      "outputs": [
        {
          "output_type": "execute_result",
          "data": {
            "text/plain": [
              "tensor([ 3, 11])"
            ]
          },
          "metadata": {
            "tags": []
          },
          "execution_count": 43
        }
      ]
    },
    {
      "cell_type": "code",
      "metadata": {
        "id": "0ieiL2KL_iOr",
        "colab_type": "code",
        "colab": {},
        "outputId": "7e5d8916-bade-4eaa-d5e7-06e8aa639f39"
      },
      "source": [
        "a = torch.tensor([2,10], dtype=torch.float32)\n",
        "a.mean()"
      ],
      "execution_count": 0,
      "outputs": [
        {
          "output_type": "execute_result",
          "data": {
            "text/plain": [
              "tensor(6.)"
            ]
          },
          "metadata": {
            "tags": []
          },
          "execution_count": 47
        }
      ]
    },
    {
      "cell_type": "code",
      "metadata": {
        "id": "oM_pbff-_iOw",
        "colab_type": "code",
        "colab": {},
        "outputId": "51cfec43-95e0-45fd-cde5-84ef215486ff"
      },
      "source": [
        "a.max()"
      ],
      "execution_count": 0,
      "outputs": [
        {
          "output_type": "execute_result",
          "data": {
            "text/plain": [
              "tensor(10.)"
            ]
          },
          "metadata": {
            "tags": []
          },
          "execution_count": 48
        }
      ]
    },
    {
      "cell_type": "code",
      "metadata": {
        "id": "ToWzyTLz_iO0",
        "colab_type": "code",
        "colab": {},
        "outputId": "ad926742-ee43-4f36-8a92-6060cf541161"
      },
      "source": [
        "torch.linspace(-2, 2, steps=9)"
      ],
      "execution_count": 0,
      "outputs": [
        {
          "output_type": "execute_result",
          "data": {
            "text/plain": [
              "tensor([-2.0000, -1.5000, -1.0000, -0.5000,  0.0000,  0.5000,  1.0000,  1.5000,\n",
              "         2.0000])"
            ]
          },
          "metadata": {
            "tags": []
          },
          "execution_count": 53
        }
      ]
    },
    {
      "cell_type": "code",
      "metadata": {
        "id": "Eh6o25SM_iO8",
        "colab_type": "code",
        "colab": {},
        "outputId": "a3ba8616-6182-4d80-832b-75e8090de3ee"
      },
      "source": [
        "a = torch.tensor([[11,12,13], [21,22,23], [31,32,33]])\n",
        "a.ndimension()"
      ],
      "execution_count": 0,
      "outputs": [
        {
          "output_type": "execute_result",
          "data": {
            "text/plain": [
              "2"
            ]
          },
          "metadata": {
            "tags": []
          },
          "execution_count": 55
        }
      ]
    },
    {
      "cell_type": "code",
      "metadata": {
        "id": "CwRP-A8Z_iPD",
        "colab_type": "code",
        "colab": {},
        "outputId": "79070cfc-855e-40ef-f9c8-5e5449d9769b"
      },
      "source": [
        "a.shape"
      ],
      "execution_count": 0,
      "outputs": [
        {
          "output_type": "execute_result",
          "data": {
            "text/plain": [
              "torch.Size([3, 3])"
            ]
          },
          "metadata": {
            "tags": []
          },
          "execution_count": 56
        }
      ]
    },
    {
      "cell_type": "code",
      "metadata": {
        "id": "SlIdaJ9K_iPI",
        "colab_type": "code",
        "colab": {},
        "outputId": "4ca3d7f5-dd4d-4583-d390-a9b917ed032c"
      },
      "source": [
        "#number of elements\n",
        "a.numel()"
      ],
      "execution_count": 0,
      "outputs": [
        {
          "output_type": "execute_result",
          "data": {
            "text/plain": [
              "9"
            ]
          },
          "metadata": {
            "tags": []
          },
          "execution_count": 57
        }
      ]
    },
    {
      "cell_type": "code",
      "metadata": {
        "id": "1yrP2d_3_iPM",
        "colab_type": "code",
        "colab": {},
        "outputId": "211bbca1-6584-4ed3-e3b5-e758bc1f7518"
      },
      "source": [
        "a[1][2]"
      ],
      "execution_count": 0,
      "outputs": [
        {
          "output_type": "execute_result",
          "data": {
            "text/plain": [
              "tensor(23)"
            ]
          },
          "metadata": {
            "tags": []
          },
          "execution_count": 58
        }
      ]
    },
    {
      "cell_type": "code",
      "metadata": {
        "id": "5rtKEmJQ_iPR",
        "colab_type": "code",
        "colab": {},
        "outputId": "38219696-1a6b-43d2-85fa-839ecb9ea1a5"
      },
      "source": [
        "a[0, 0:2]"
      ],
      "execution_count": 0,
      "outputs": [
        {
          "output_type": "execute_result",
          "data": {
            "text/plain": [
              "tensor([11, 12])"
            ]
          },
          "metadata": {
            "tags": []
          },
          "execution_count": 59
        }
      ]
    },
    {
      "cell_type": "code",
      "metadata": {
        "id": "ZCMZWdgb_iPY",
        "colab_type": "code",
        "colab": {},
        "outputId": "fc4316e7-f6ac-4c7e-cd78-e4044d9f62fc"
      },
      "source": [
        "a = torch.tensor([[0,1,1], [1,0,1]])\n",
        "b = torch.tensor([[1,1], [1,1], [1,1]])\n",
        "c = torch.mm(a, b)\n",
        "print(c)"
      ],
      "execution_count": 0,
      "outputs": [
        {
          "output_type": "stream",
          "text": [
            "tensor([[2, 2],\n",
            "        [2, 2]])\n"
          ],
          "name": "stdout"
        }
      ]
    },
    {
      "cell_type": "code",
      "metadata": {
        "id": "sJ-r0oOd_iPd",
        "colab_type": "code",
        "colab": {},
        "outputId": "ea10dbc7-c9a7-4496-8f14-9aebbeea1d50"
      },
      "source": [
        "x = torch.tensor(2, dtype=torch.float32, requires_grad=True)\n",
        "y = x ** 2\n",
        "y"
      ],
      "execution_count": 0,
      "outputs": [
        {
          "output_type": "execute_result",
          "data": {
            "text/plain": [
              "tensor(4., grad_fn=<PowBackward0>)"
            ]
          },
          "metadata": {
            "tags": []
          },
          "execution_count": 66
        }
      ]
    },
    {
      "cell_type": "code",
      "metadata": {
        "id": "bXOmTy-a_iPi",
        "colab_type": "code",
        "colab": {},
        "outputId": "5929405b-381f-4c0a-9532-4e44f160c0b0"
      },
      "source": [
        "# y = torch.tensor(x ** 2, dtype=torch.float32, requires_grad=True)"
      ],
      "execution_count": 0,
      "outputs": [
        {
          "output_type": "stream",
          "text": [
            "/home/ec2-user/anaconda3/envs/pytorch_p36/lib/python3.6/site-packages/ipykernel/__main__.py:1: UserWarning: To copy construct from a tensor, it is recommended to use sourceTensor.clone().detach() or sourceTensor.clone().detach().requires_grad_(True), rather than torch.tensor(sourceTensor).\n",
            "  if __name__ == '__main__':\n"
          ],
          "name": "stderr"
        }
      ]
    },
    {
      "cell_type": "code",
      "metadata": {
        "id": "clvrm5lX_iPo",
        "colab_type": "code",
        "colab": {}
      },
      "source": [
        "# to calc the deriv of y\n",
        "y.backward()"
      ],
      "execution_count": 0,
      "outputs": []
    },
    {
      "cell_type": "code",
      "metadata": {
        "id": "ypVt0Qcx_iPs",
        "colab_type": "code",
        "colab": {},
        "outputId": "26c86132-9671-4e15-d2ff-c848fe34d05b"
      },
      "source": [
        "# to eval the derivative of y at x = 2\n",
        "x.grad"
      ],
      "execution_count": 0,
      "outputs": [
        {
          "output_type": "execute_result",
          "data": {
            "text/plain": [
              "tensor(4.)"
            ]
          },
          "metadata": {
            "tags": []
          },
          "execution_count": 70
        }
      ]
    },
    {
      "cell_type": "code",
      "metadata": {
        "id": "bult7Ryv_iPz",
        "colab_type": "code",
        "colab": {}
      },
      "source": [
        "y.grad"
      ],
      "execution_count": 0,
      "outputs": []
    },
    {
      "cell_type": "code",
      "metadata": {
        "id": "IxEc0ZKP_iP4",
        "colab_type": "code",
        "colab": {}
      },
      "source": [
        "x = torch.tensor(2, dtype=torch.float32, requires_grad=True)\n",
        "z = x ** 2 + 2 * x + 1"
      ],
      "execution_count": 0,
      "outputs": []
    },
    {
      "cell_type": "code",
      "metadata": {
        "id": "smOqUVSq_iQA",
        "colab_type": "code",
        "colab": {},
        "outputId": "c380968c-0348-48fb-866f-5db539887e14"
      },
      "source": [
        "z.backward()\n",
        "x.grad"
      ],
      "execution_count": 0,
      "outputs": [
        {
          "output_type": "execute_result",
          "data": {
            "text/plain": [
              "tensor(6.)"
            ]
          },
          "metadata": {
            "tags": []
          },
          "execution_count": 75
        }
      ]
    },
    {
      "cell_type": "code",
      "metadata": {
        "id": "xr7iV1mY_iQE",
        "colab_type": "code",
        "colab": {}
      },
      "source": [
        "# Partial derivatives\n",
        "#f(u=1, v=2) = uv + u^2\n",
        "\n",
        "u = torch.tensor(1, dtype=torch.float32, requires_grad=True)\n",
        "v = torch.tensor(2, dtype=torch.float32, requires_grad=True)\n",
        "\n",
        "f = u * v + u**2"
      ],
      "execution_count": 0,
      "outputs": []
    },
    {
      "cell_type": "code",
      "metadata": {
        "id": "aUof0YDK_iQN",
        "colab_type": "code",
        "colab": {},
        "outputId": "0422656c-cd9c-4c1b-a1a5-bf7f778bd16b"
      },
      "source": [
        "f.backward()\n",
        "print(u.grad, v.grad)"
      ],
      "execution_count": 0,
      "outputs": [
        {
          "output_type": "stream",
          "text": [
            "tensor(4.) tensor(1.)\n"
          ],
          "name": "stdout"
        }
      ]
    },
    {
      "cell_type": "code",
      "metadata": {
        "id": "4v2J4Ggw_iQX",
        "colab_type": "code",
        "colab": {}
      },
      "source": [
        ""
      ],
      "execution_count": 0,
      "outputs": []
    },
    {
      "cell_type": "code",
      "metadata": {
        "id": "cN-MPfQw_iQe",
        "colab_type": "code",
        "colab": {}
      },
      "source": [
        ""
      ],
      "execution_count": 0,
      "outputs": []
    },
    {
      "cell_type": "code",
      "metadata": {
        "id": "vX0CPus8_iQo",
        "colab_type": "code",
        "colab": {}
      },
      "source": [
        ""
      ],
      "execution_count": 0,
      "outputs": []
    },
    {
      "cell_type": "code",
      "metadata": {
        "id": "hqV8OfNv_iQv",
        "colab_type": "code",
        "colab": {}
      },
      "source": [
        ""
      ],
      "execution_count": 0,
      "outputs": []
    },
    {
      "cell_type": "code",
      "metadata": {
        "id": "TX_MJhgT_iQ4",
        "colab_type": "code",
        "colab": {}
      },
      "source": [
        ""
      ],
      "execution_count": 0,
      "outputs": []
    },
    {
      "cell_type": "code",
      "metadata": {
        "id": "Ps0JzUEW_iRA",
        "colab_type": "code",
        "colab": {}
      },
      "source": [
        ""
      ],
      "execution_count": 0,
      "outputs": []
    },
    {
      "cell_type": "code",
      "metadata": {
        "id": "x4ArpKVO_iRG",
        "colab_type": "code",
        "colab": {}
      },
      "source": [
        ""
      ],
      "execution_count": 0,
      "outputs": []
    }
  ]
}